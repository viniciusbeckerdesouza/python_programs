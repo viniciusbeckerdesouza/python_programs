{
  "nbformat": 4,
  "nbformat_minor": 0,
  "metadata": {
    "colab": {
      "provenance": [],
      "authorship_tag": "ABX9TyO90PvUPs8saJ6J7Alwyz4B",
      "include_colab_link": true
    },
    "kernelspec": {
      "name": "python3",
      "display_name": "Python 3"
    },
    "language_info": {
      "name": "python"
    }
  },
  "cells": [
    {
      "cell_type": "markdown",
      "metadata": {
        "id": "view-in-github",
        "colab_type": "text"
      },
      "source": [
        "<a href=\"https://colab.research.google.com/github/viniciusbeckerdesouza/python_programs/blob/main/exact.ipynb\" target=\"_parent\"><img src=\"https://colab.research.google.com/assets/colab-badge.svg\" alt=\"Open In Colab\"/></a>"
      ]
    },
    {
      "cell_type": "code",
      "source": [
        "from requests import get\n",
        "import pandas as pd\n",
        "from pandas_gbq import to_gbq\n",
        "\n",
        "# Faz a requisição a API\n",
        "headers = {\n",
        "  'Content-Type': 'application/json',\n",
        "  'token_exact': '6b78e5fe-6d2c-4cef-bba8-429ca2aa2fc5'\n",
        "}\n",
        "\n",
        "response = get('https://api.exactspotter.com/v3/QualificationHistories', headers=headers)\n",
        "\n",
        "# Transforma os dados\n",
        "df = pd.DataFrame(response.json()['value'])\n",
        "df['count'] = 1\n",
        "df[['stage','leadId']] = df[['stage','leadId']].astype('category')\n"
      ],
      "metadata": {
        "id": "6hXw7whXWUFD"
      },
      "execution_count": null,
      "outputs": []
    },
    {
      "cell_type": "code",
      "source": [
        "\n",
        "def id(x):\n",
        "\n",
        "  return dict(x)['id']\n",
        "\n",
        "def email(x):\n",
        "\n",
        "  return dict(x)['email']\n",
        "\n",
        "def last(x):\n",
        "\n",
        "  return dict(x)['lastName']\n",
        "\n",
        "def nam(x):\n",
        "\n",
        "  return dict(x)['name']\n",
        "\n",
        "def ques(x):\n",
        "\n",
        "  return dict(x[0])['question']\n",
        "\n",
        "def ques_id(x):\n",
        "\n",
        "  return dict(x[0])['questionId']\n",
        "\n",
        "def ans_id(x):\n",
        "\n",
        "  return dict(x[0])['answers'][0]['id']\n",
        "\n",
        "def ans_txt(x):\n",
        "\n",
        "  return dict(x[0])['answers'][0]['text']"
      ],
      "metadata": {
        "id": "sQyzeDeGWabt"
      },
      "execution_count": null,
      "outputs": []
    },
    {
      "cell_type": "code",
      "source": [
        "df['id'] = df.userAction.p_apply(id)"
      ],
      "metadata": {
        "id": "Hm7siCNBXCtj"
      },
      "execution_count": null,
      "outputs": []
    },
    {
      "cell_type": "code",
      "source": [
        "\n",
        "\n",
        "df['id'] = df.userAction.apply(id)\n",
        "df['email'] = df.userAction.apply(email)\n",
        "df['name'] = df.userAction.apply(nam)\n",
        "df['lastName'] = df.userAction.apply(last)\n",
        "df['preVendedor'] = df['name'] + \" \" + df['lastName']\n",
        "df['question'] = df['questionAnswers'].apply(ques)\n",
        "df['questionId'] = df['questionAnswers'].apply(ques_id)\n",
        "df['answersId'] = df['questionAnswers'].apply(ans_id)\n",
        "df['answersText'] = df['questionAnswers'].apply(ans_txt)\n",
        "df = df[['leadId', 'stageId', 'stage', 'score', 'qualificationDate',\n",
        "        'count', 'id', 'email', 'name', 'lastName', 'preVendedor',\n",
        "         'question', 'questionId', 'answersId','answersText']]\n",
        "\n",
        "\n",
        "# Carrega os dados no BigQuery\n",
        "project_id = 'exact-sales'\n",
        "\n",
        "table_id = 'exact.QualificationHistories'\n",
        "\n",
        "to_gbq(df, table_id, project_id=project_id)\n"
      ],
      "metadata": {
        "id": "akk7CKZdpb83"
      },
      "execution_count": null,
      "outputs": []
    },
    {
      "cell_type": "code",
      "source": [
        "df"
      ],
      "metadata": {
        "id": "sLGv-hHcvR_7"
      },
      "execution_count": null,
      "outputs": []
    },
    {
      "cell_type": "code",
      "source": [],
      "metadata": {
        "id": "xEeyQkdYvTJF"
      },
      "execution_count": null,
      "outputs": []
    }
  ]
}